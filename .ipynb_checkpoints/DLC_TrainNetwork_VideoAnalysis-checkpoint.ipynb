{
 "cells": [
  {
   "cell_type": "markdown",
   "metadata": {
    "colab_type": "text",
    "id": "RK255E7YoEIt"
   },
   "source": [
    "# DeepLabCut Toolbox\n",
    "https://github.com/AlexEMG/DeepLabCut\n",
    "\n",
    "This (modified) notebook illustrates how to use DLC to:\n",
    "- create a training set\n",
    "- train a network\n",
    "- evaluate a network\n",
    "- create simple quality check plots\n",
    "- analyze novel videos!\n",
    "\n",
    "This shows the most simple code to do so, but many of the functions have additional features, so check out the overview & the protocol paper!\n",
    "\n",
    "Nath\\*, Mathis\\* et al.: Using DeepLabCut for markerless pose estimation during behavior across species. Nature Protocols, 2019.\n",
    "\n",
    "Paper: https://www.biorxiv.org/content/biorxiv/early/2018/11/24/476531.full.pdf"
   ]
  },
  {
   "cell_type": "markdown",
   "metadata": {},
   "source": [
    "## Import DeepLabCut\n",
    "This step assumes that you have installed DeepLabCut using the DLC-CPU.yaml conda config file. \n",
    "\n",
    "1. Install [Anaconda 3](https://www.anaconda.com/distribution/) if you don't have it already\n",
    "2. Download DLC's [conda file for CPU](https://github.com/DeepLabCut/DeepLabCut/blob/master/conda-environments/DLC-CPU.yaml)\n",
    "3. Open terminal where you placed the file and run `conda env create -f DLC-CPU.yaml`"
   ]
  },
  {
   "cell_type": "code",
   "execution_count": 2,
   "metadata": {
    "colab": {},
    "colab_type": "code",
    "id": "3K9Ndy1beyfG",
    "scrolled": true
   },
   "outputs": [],
   "source": [
    "import deeplabcut\n",
    "from pathlib import Path "
   ]
  },
  {
   "cell_type": "code",
   "execution_count": 15,
   "metadata": {
    "scrolled": false
   },
   "outputs": [
    {
     "name": "stdout",
     "output_type": "stream",
     "text": [
      "[WindowsPath('C:/Users/mikef/Google Drive/Machine_Learning/My_Projects/blog-dog-pose-estimation/videos/130D99A6-89D6-4E55-B7A5-E8C3DCBB74CB.mov'), WindowsPath('C:/Users/mikef/Google Drive/Machine_Learning/My_Projects/blog-dog-pose-estimation/videos/IMG_0040.MOV'), WindowsPath('C:/Users/mikef/Google Drive/Machine_Learning/My_Projects/blog-dog-pose-estimation/videos/IMG_0124.MOV'), WindowsPath('C:/Users/mikef/Google Drive/Machine_Learning/My_Projects/blog-dog-pose-estimation/videos/IMG_0186.MOV'), WindowsPath('C:/Users/mikef/Google Drive/Machine_Learning/My_Projects/blog-dog-pose-estimation/videos/IMG_0188.MOV'), WindowsPath('C:/Users/mikef/Google Drive/Machine_Learning/My_Projects/blog-dog-pose-estimation/videos/IMG_0195.MOV'), WindowsPath('C:/Users/mikef/Google Drive/Machine_Learning/My_Projects/blog-dog-pose-estimation/videos/IMG_0234.MOV'), WindowsPath('C:/Users/mikef/Google Drive/Machine_Learning/My_Projects/blog-dog-pose-estimation/videos/IMG_0273.MOV'), WindowsPath('C:/Users/mikef/Google Drive/Machine_Learning/My_Projects/blog-dog-pose-estimation/videos/IMG_0318.MOV'), WindowsPath('C:/Users/mikef/Google Drive/Machine_Learning/My_Projects/blog-dog-pose-estimation/videos/IMG_0508.MOV')]\n"
     ]
    }
   ],
   "source": [
    "# video file path\n",
    "p = Path('C:/Users/mikef/Google Drive/Machine_Learning/My_Projects/blog-dog-pose-estimation/videos').glob('**/*')\n",
    "files = [x for x in p if x.is_file()]\n",
    "print(files)"
   ]
  },
  {
   "cell_type": "code",
   "execution_count": 16,
   "metadata": {},
   "outputs": [
    {
     "name": "stdout",
     "output_type": "stream",
     "text": [
      "Created \"C:\\Users\\mikef\\Documents\\GitHub\\dog-pose-estimation\\dlc-dog-pose-mike-2021-09-20\\videos\"\n",
      "Created \"C:\\Users\\mikef\\Documents\\GitHub\\dog-pose-estimation\\dlc-dog-pose-mike-2021-09-20\\labeled-data\"\n",
      "Created \"C:\\Users\\mikef\\Documents\\GitHub\\dog-pose-estimation\\dlc-dog-pose-mike-2021-09-20\\training-datasets\"\n",
      "Created \"C:\\Users\\mikef\\Documents\\GitHub\\dog-pose-estimation\\dlc-dog-pose-mike-2021-09-20\\dlc-models\"\n",
      "Copying the videos\n",
      "C:\\Users\\mikef\\Documents\\GitHub\\dog-pose-estimation\\dlc-dog-pose-mike-2021-09-20\\videos\\130D99A6-89D6-4E55-B7A5-E8C3DCBB74CB.mov\n",
      "C:\\Users\\mikef\\Documents\\GitHub\\dog-pose-estimation\\dlc-dog-pose-mike-2021-09-20\\videos\\IMG_0040.MOV\n",
      "C:\\Users\\mikef\\Documents\\GitHub\\dog-pose-estimation\\dlc-dog-pose-mike-2021-09-20\\videos\\IMG_0124.MOV\n",
      "C:\\Users\\mikef\\Documents\\GitHub\\dog-pose-estimation\\dlc-dog-pose-mike-2021-09-20\\videos\\IMG_0186.MOV\n",
      "C:\\Users\\mikef\\Documents\\GitHub\\dog-pose-estimation\\dlc-dog-pose-mike-2021-09-20\\videos\\IMG_0188.MOV\n",
      "C:\\Users\\mikef\\Documents\\GitHub\\dog-pose-estimation\\dlc-dog-pose-mike-2021-09-20\\videos\\IMG_0195.MOV\n",
      "C:\\Users\\mikef\\Documents\\GitHub\\dog-pose-estimation\\dlc-dog-pose-mike-2021-09-20\\videos\\IMG_0234.MOV\n",
      "C:\\Users\\mikef\\Documents\\GitHub\\dog-pose-estimation\\dlc-dog-pose-mike-2021-09-20\\videos\\IMG_0273.MOV\n",
      "C:\\Users\\mikef\\Documents\\GitHub\\dog-pose-estimation\\dlc-dog-pose-mike-2021-09-20\\videos\\IMG_0318.MOV\n",
      "C:\\Users\\mikef\\Documents\\GitHub\\dog-pose-estimation\\dlc-dog-pose-mike-2021-09-20\\videos\\IMG_0508.MOV\n",
      "Generated \"C:\\Users\\mikef\\Documents\\GitHub\\dog-pose-estimation\\dlc-dog-pose-mike-2021-09-20\\config.yaml\"\n",
      "\n",
      "A new project with name dlc-dog-pose-mike-2021-09-20 is created at C:\\Users\\mikef\\Documents\\GitHub\\dog-pose-estimation and a configurable file (config.yaml) is stored there. Change the parameters in this file to adapt to your project's needs.\n",
      " Once you have changed the configuration file, use the function 'extract_frames' to select frames for labeling.\n",
      ". [OPTIONAL] Use the function 'add_new_videos' to add new videos to your project (at any stage).\n"
     ]
    },
    {
     "data": {
      "text/plain": [
       "'C:\\\\Users\\\\mikef\\\\Documents\\\\GitHub\\\\dog-pose-estimation\\\\dlc-dog-pose-mike-2021-09-20\\\\config.yaml'"
      ]
     },
     "execution_count": 16,
     "metadata": {},
     "output_type": "execute_result"
    }
   ],
   "source": [
    "# Create a new project\n",
    "deeplabcut.create_new_project(f'dlc-dog-pose',\n",
    "                              'mike',\n",
    "                              files,\n",
    "                              copy_videos=True,\n",
    "                              multianimal=False)"
   ]
  },
  {
   "cell_type": "code",
   "execution_count": 17,
   "metadata": {},
   "outputs": [],
   "source": [
    "# Setup your project variables:\n",
    "# PLEASE EDIT THESE:\n",
    "ProjectFolderName = 'dlc-dog-pose'\n",
    "VideoType = 'mov' "
   ]
  },
  {
   "cell_type": "code",
   "execution_count": 18,
   "metadata": {
    "colab": {},
    "colab_type": "code",
    "id": "Z7ZlDr3wV4D1"
   },
   "outputs": [
    {
     "data": {
      "text/plain": [
       "'/home/ryan/code/repos/dog-pose-estimation/dlc-dog-pose-ryan-2021-02-14/config.yaml'"
      ]
     },
     "execution_count": 18,
     "metadata": {},
     "output_type": "execute_result"
    }
   ],
   "source": [
    "# This creates a path variable to your project's config.yaml file\n",
    "path_config_file = '/home/ryan/code/repos/dog-pose-estimation/dlc-dog-pose-ryan-2021-02-14/config.yaml'\n",
    "path_config_file"
   ]
  },
  {
   "cell_type": "code",
   "execution_count": 28,
   "metadata": {},
   "outputs": [
    {
     "name": "stdout",
     "output_type": "stream",
     "text": [
      "Task : dlc-dog-pose\n",
      "scorer : mike\n",
      "date : Sep20\n",
      "multianimalproject : False\n",
      "identity : None\n",
      "project_path : C:\\Users\\mikef\\Documents\\GitHub\\dog-pose-estimation\\dlc-dog-pose-mike-2021-09-20\n",
      "video_sets : {'C:\\\\Users\\\\mikef\\\\Documents\\\\GitHub\\\\dog-pose-estimation\\\\dlc-dog-pose-mike-2021-09-20\\\\videos\\\\130D99A6-89D6-4E55-B7A5-E8C3DCBB74CB.mov': {'crop': '0, 1440, 0, 1920'}, 'C:\\\\Users\\\\mikef\\\\Documents\\\\GitHub\\\\dog-pose-estimation\\\\dlc-dog-pose-mike-2021-09-20\\\\videos\\\\IMG_0040.MOV': {'crop': '0, 1440, 0, 1920'}, 'C:\\\\Users\\\\mikef\\\\Documents\\\\GitHub\\\\dog-pose-estimation\\\\dlc-dog-pose-mike-2021-09-20\\\\videos\\\\IMG_0124.MOV': {'crop': '0, 1920, 0, 1080'}, 'C:\\\\Users\\\\mikef\\\\Documents\\\\GitHub\\\\dog-pose-estimation\\\\dlc-dog-pose-mike-2021-09-20\\\\videos\\\\IMG_0186.MOV': {'crop': '0, 1440, 0, 1920'}, 'C:\\\\Users\\\\mikef\\\\Documents\\\\GitHub\\\\dog-pose-estimation\\\\dlc-dog-pose-mike-2021-09-20\\\\videos\\\\IMG_0188.MOV': {'crop': '0, 1440, 0, 1920'}, 'C:\\\\Users\\\\mikef\\\\Documents\\\\GitHub\\\\dog-pose-estimation\\\\dlc-dog-pose-mike-2021-09-20\\\\videos\\\\IMG_0195.MOV': {'crop': '0, 1440, 0, 1920'}, 'C:\\\\Users\\\\mikef\\\\Documents\\\\GitHub\\\\dog-pose-estimation\\\\dlc-dog-pose-mike-2021-09-20\\\\videos\\\\IMG_0234.MOV': {'crop': '0, 1440, 0, 1920'}, 'C:\\\\Users\\\\mikef\\\\Documents\\\\GitHub\\\\dog-pose-estimation\\\\dlc-dog-pose-mike-2021-09-20\\\\videos\\\\IMG_0273.MOV': {'crop': '0, 1440, 0, 1920'}, 'C:\\\\Users\\\\mikef\\\\Documents\\\\GitHub\\\\dog-pose-estimation\\\\dlc-dog-pose-mike-2021-09-20\\\\videos\\\\IMG_0318.MOV': {'crop': '0, 1920, 0, 1440'}, 'C:\\\\Users\\\\mikef\\\\Documents\\\\GitHub\\\\dog-pose-estimation\\\\dlc-dog-pose-mike-2021-09-20\\\\videos\\\\IMG_0508.MOV': {'crop': '0, 1440, 0, 1920'}}\n",
      "bodyparts : ['bodypart1', 'bodypart2', 'bodypart3', 'objectA']\n",
      "start : 0\n",
      "stop : 1\n",
      "numframes2pick : 20\n",
      "skeleton : [['bodypart1', 'bodypart2'], ['objectA', 'bodypart3']]\n",
      "skeleton_color : black\n",
      "pcutoff : 0.6\n",
      "dotsize : 12\n",
      "alphavalue : 0.7\n",
      "colormap : rainbow\n",
      "TrainingFraction : [0.95]\n",
      "iteration : 0\n",
      "default_net_type : resnet_50\n",
      "default_augmenter : default\n",
      "snapshotindex : -1\n",
      "batch_size : 8\n",
      "cropping : False\n",
      "x1 : 0\n",
      "x2 : 640\n",
      "y1 : 277\n",
      "y2 : 624\n",
      "corner2move2 : [50, 50]\n",
      "move2corner : True\n"
     ]
    },
    {
     "name": "stderr",
     "output_type": "stream",
     "text": [
      "<ipython-input-28-37d20c540f80>:6: YAMLLoadWarning: calling yaml.load() without Loader=... is deprecated, as the default Loader is unsafe. Please read https://msg.pyyaml.org/load for full details.\n",
      "  doc = yaml.load(file)\n"
     ]
    }
   ],
   "source": [
    "import yaml\n",
    "\n",
    "yaml_file = 'C:\\\\Users\\\\mikef\\\\Documents\\\\GitHub\\\\dog-pose-estimation\\\\dlc-dog-pose-mike-2021-09-20\\\\config.yaml'\n",
    "\n",
    "with open(yaml_file) as file:\n",
    "    doc = yaml.load(file)\n",
    "    doc[\"bodyparts\"] = [\"nose\", \"leftear\", \"rightear\", \"collar\", \n",
    "                         \"spine1\", \"spine2\", \"spine3\", \"tailstart\", \n",
    "                         \"tailend\", \"frontleftleg\", \"frontleftpaw\", \n",
    "                         \"frontrightleg\", \"frontrightpaw\", \"backleftleg\", \n",
    "                         \"backleftpaw\", \"backrightleg\", \"backrightpaw\"]\n",
    "    \n",
    "    for item, doc in documents.items():\n",
    "        print(item, \":\", doc)"
   ]
  },
  {
   "cell_type": "code",
   "execution_count": null,
   "metadata": {},
   "outputs": [],
   "source": [
    "bodyparts:\n",
    "- nose\n",
    "- leftear\n",
    "- rightear\n",
    "- collar\n",
    "- spine1\n",
    "- spine2\n",
    "- spine3\n",
    "- tailstart\n",
    "- tailend\n",
    "- frontleftleg\n",
    "- frontleftpaw\n",
    "- frontrightleg\n",
    "- frontrightpaw\n",
    "- backleftleg\n",
    "- backleftpaw\n",
    "- backrightleg\n",
    "- backrightpaw"
   ]
  },
  {
   "cell_type": "markdown",
   "metadata": {},
   "source": [
    "### Edit the config.yaml file to add body parts. I labeled these parts of my dog:\n",
    "```\n",
    "bodyparts:\n",
    "- nose\n",
    "- leftear\n",
    "- rightear\n",
    "- collar\n",
    "- spine1\n",
    "- spine2\n",
    "- spine3\n",
    "- tailstart\n",
    "- tailend\n",
    "- frontleftleg\n",
    "- frontleftpaw\n",
    "- frontrightleg\n",
    "- frontrightpaw\n",
    "- backleftleg\n",
    "- backleftpaw\n",
    "- backrightleg\n",
    "- backrightpaw\n",
    "```"
   ]
  },
  {
   "cell_type": "code",
   "execution_count": null,
   "metadata": {
    "scrolled": false
   },
   "outputs": [],
   "source": [
    "# This step is to extract frames from the videos you added to the project\n",
    "deeplabcut.extract_frames(path_config_file, mode='automatic', algo='kmeans', crop=True)"
   ]
  },
  {
   "cell_type": "code",
   "execution_count": null,
   "metadata": {},
   "outputs": [],
   "source": [
    "# Label your frames\n",
    "# IMPORTANT: You must run this step from a computer with a display or use VNC (GUI required)\n",
    "deeplabcut.label_frames('./config.yaml')"
   ]
  },
  {
   "cell_type": "markdown",
   "metadata": {
    "colab_type": "text",
    "id": "xNi9s1dboEJN"
   },
   "source": [
    "## Create a training dataset:\n",
    "After running this script the training dataset is created and saved in the project directory under the subdirectory **'training-datasets'**\n",
    "\n",
    "This function also creates new subdirectories under **dlc-models** and appends the project config.yaml file with the correct path to the training and testing pose configuration file. These files hold the parameters for training the network. Such an example file is provided with the toolbox and named as **pose_cfg.yaml**.\n",
    "\n",
    "Now it is the time to start training the network!"
   ]
  },
  {
   "cell_type": "code",
   "execution_count": null,
   "metadata": {
    "colab": {},
    "colab_type": "code",
    "id": "eMeUwgxPoEJP",
    "scrolled": true
   },
   "outputs": [],
   "source": [
    "# There are many more functions you can set here, including which network you use\n",
    "# check the docstring for full options you can use\n",
    "deeplabcut.create_training_dataset(path_config_file, net_type='resnet_50', augmenter_type='imgaug')"
   ]
  },
  {
   "cell_type": "markdown",
   "metadata": {
    "colab_type": "text",
    "id": "c4FczXGDoEJU"
   },
   "source": [
    "## Start training:\n",
    "This function trains the network for a specific shuffle of the training dataset. "
   ]
  },
  {
   "cell_type": "code",
   "execution_count": null,
   "metadata": {
    "colab": {},
    "colab_type": "code",
    "id": "_pOvDq_2oEJW",
    "scrolled": true
   },
   "outputs": [],
   "source": [
    "# Typically, you want to train to 200,000 + iterations.\n",
    "# more info and there are more things you can set: https://github.com/AlexEMG/DeepLabCut/blob/master/docs/functionDetails.md#g-train-the-network\n",
    "\n",
    "deeplabcut.train_network(path_config_file, shuffle=1, displayiters=100,saveiters=500)\n",
    "\n",
    "# This will run until you stop it (CTRL+C), or hit \"STOP\" icon, or when it hits the end (default, 1.03M iterations). \n",
    "# Whichever you chose, you will see what looks like an error message, but it's not an error - don't worry...."
   ]
  },
  {
   "cell_type": "markdown",
   "metadata": {
    "colab_type": "text",
    "id": "RiDwIVf5-3H_"
   },
   "source": [
    "**When you hit \"STOP\" you will get a KeyInterrupt \"error\"! No worries! :)**"
   ]
  },
  {
   "cell_type": "markdown",
   "metadata": {
    "colab_type": "text",
    "id": "xZygsb2DoEJc"
   },
   "source": [
    "## Start evaluating:\n",
    "This funtion evaluates a trained model for a specific shuffle/shuffles at a particular state or all the states on the data set (images)\n",
    "and stores the results as .csv file in a subdirectory under **evaluation-results**"
   ]
  },
  {
   "cell_type": "code",
   "execution_count": null,
   "metadata": {
    "colab": {},
    "colab_type": "code",
    "id": "nv4zlbrnoEJg"
   },
   "outputs": [],
   "source": [
    "%matplotlib notebook\n",
    "deeplabcut.evaluate_network(path_config_file,plotting=True)\n",
    "\n",
    "# Here you want to see a low pixel error! Of course, it can only be as good as the labeler, \n",
    "#so be sure your labels are good! (And you have trained enough ;)"
   ]
  },
  {
   "cell_type": "markdown",
   "metadata": {
    "colab_type": "text",
    "id": "OVFLSKKfoEJk"
   },
   "source": [
    "## Start Analyzing videos: \n",
    "This function analyzes the new video. The user can choose the best model from the evaluation results and specify the correct snapshot index for the variable **snapshotindex** in the **config.yaml** file. Otherwise, by default the most recent snapshot is used to analyse the video.\n",
    "\n",
    "The results are stored in hd5 file in the same directory where the video resides. "
   ]
  },
  {
   "cell_type": "code",
   "execution_count": null,
   "metadata": {},
   "outputs": [],
   "source": [
    "# This is the location of the videos to analyze\n",
    "videofile_path = ['/home/ryan/code/repos/dog-pose-estimation/videos']\n",
    "videofile_path"
   ]
  },
  {
   "cell_type": "code",
   "execution_count": null,
   "metadata": {
    "colab": {},
    "colab_type": "code",
    "id": "Y_LZiS_0oEJl"
   },
   "outputs": [],
   "source": [
    "deeplabcut.analyze_videos(path_config_file,videofile_path, videotype='mov')"
   ]
  },
  {
   "cell_type": "markdown",
   "metadata": {
    "colab_type": "text",
    "id": "8GTiuJESoEKH"
   },
   "source": [
    "## Plot the trajectories of the analyzed videos:\n",
    "This function plots the trajectories of all the body parts across the entire video. Each body part is identified by a unique color."
   ]
  },
  {
   "cell_type": "code",
   "execution_count": null,
   "metadata": {
    "colab": {},
    "colab_type": "code",
    "id": "gX21zZbXoEKJ"
   },
   "outputs": [],
   "source": [
    "deeplabcut.plot_trajectories(path_config_file,videofile_path, videotype='mov')"
   ]
  },
  {
   "cell_type": "markdown",
   "metadata": {
    "colab_type": "text",
    "id": "pqaCw15v8EmB"
   },
   "source": [
    "Now you can look at the plot-poses file and check the \"plot-likelihood.png\" might want to change the \"p-cutoff\" in the config.yaml file so that you have only high confidnece points plotted in the video. i.e. ~0.8 or 0.9. The current default is 0.4. "
   ]
  },
  {
   "cell_type": "markdown",
   "metadata": {
    "colab_type": "text",
    "id": "pCrUvQIvoEKD"
   },
   "source": [
    "## Create labeled video:\n",
    "This funtion is for visualiztion purpose and can be used to create a video in .mp4 format with labels predicted by the network. This video is saved in the same directory where the original video resides. "
   ]
  },
  {
   "cell_type": "code",
   "execution_count": null,
   "metadata": {
    "colab": {},
    "colab_type": "code",
    "id": "6aDF7Q7KoEKE"
   },
   "outputs": [],
   "source": [
    "deeplabcut.create_labeled_video(path_config_file, videofile_path, videotype='mov', draw_skeleton=True)"
   ]
  },
  {
   "cell_type": "code",
   "execution_count": null,
   "metadata": {
    "scrolled": true
   },
   "outputs": [],
   "source": [
    "# PLACEHOLDER: This step is where we will convert to OpenVINO for faster inference \n",
    "# export frozen TF graph (.pb format)\n",
    "deeplabcut.export_model(config_path, iteration=None, shuffle=1, trainingsetindex=0, snapshotindex=None, TFGPUinference=False, overwrite=False, make_tar=True)"
   ]
  }
 ],
 "metadata": {
  "accelerator": "GPU",
  "colab": {
   "collapsed_sections": [],
   "include_colab_link": true,
   "name": "Copy of latest_Colab_TrainNetwork_VideoAnalysis.ipynb",
   "provenance": [],
   "toc_visible": true
  },
  "kernelspec": {
   "display_name": "Python [conda env:DEEPLABCUT] *",
   "language": "python",
   "name": "conda-env-DEEPLABCUT-py"
  },
  "language_info": {
   "codemirror_mode": {
    "name": "ipython",
    "version": 3
   },
   "file_extension": ".py",
   "mimetype": "text/x-python",
   "name": "python",
   "nbconvert_exporter": "python",
   "pygments_lexer": "ipython3",
   "version": "3.8.12"
  },
  "toc": {
   "base_numbering": 1,
   "nav_menu": {},
   "number_sections": true,
   "sideBar": true,
   "skip_h1_title": false,
   "title_cell": "Table of Contents",
   "title_sidebar": "Contents",
   "toc_cell": false,
   "toc_position": {},
   "toc_section_display": true,
   "toc_window_display": false
  }
 },
 "nbformat": 4,
 "nbformat_minor": 1
}
