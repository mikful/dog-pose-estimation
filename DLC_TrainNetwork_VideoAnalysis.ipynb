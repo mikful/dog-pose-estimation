{
 "cells": [
  {
   "cell_type": "markdown",
   "metadata": {
    "colab_type": "text",
    "id": "RK255E7YoEIt"
   },
   "source": [
    "# DeepLabCut Toolbox\n",
    "https://github.com/AlexEMG/DeepLabCut\n",
    "\n",
    "This (modified) notebook illustrates how to use DLC to:\n",
    "- create a training set\n",
    "- train a network\n",
    "- evaluate a network\n",
    "- create simple quality check plots\n",
    "- analyze novel videos!\n",
    "\n",
    "This shows the most simple code to do so, but many of the functions have additional features, so check out the overview & the protocol paper!\n",
    "\n",
    "Nath\\*, Mathis\\* et al.: Using DeepLabCut for markerless pose estimation during behavior across species. Nature Protocols, 2019.\n",
    "\n",
    "Paper: https://www.biorxiv.org/content/biorxiv/early/2018/11/24/476531.full.pdf"
   ]
  },
  {
   "cell_type": "markdown",
   "metadata": {},
   "source": [
    "## Import DeepLabCut\n",
    "This step assumes that you have installed DeepLabCut using the DLC-CPU.yaml conda config file. \n",
    "\n",
    "1. Install [Anaconda 3](https://www.anaconda.com/distribution/) if you don't have it already\n",
    "2. Download DLC's [conda file for CPU](https://github.com/DeepLabCut/DeepLabCut/blob/master/conda-environments/DLC-CPU.yaml)\n",
    "3. Open terminal where you placed the file and run `conda env create -f DLC-CPU.yaml`"
   ]
  },
  {
   "cell_type": "code",
   "execution_count": null,
   "metadata": {
    "colab": {},
    "colab_type": "code",
    "id": "3K9Ndy1beyfG",
    "scrolled": true
   },
   "outputs": [],
   "source": [
    "import deeplabcut"
   ]
  },
  {
   "cell_type": "code",
   "execution_count": null,
   "metadata": {
    "scrolled": false
   },
   "outputs": [],
   "source": [
    "# update the paths to your video files\n",
    "# PLEASE EDIT THESE:\n",
    "path = '/home/ryan/code/repos/dog-pose-estimation/videos/train'\n",
    "deeplabcut.create_new_project(f'dlc-dog-pose','ryan', \\\n",
    "                              [f'{path}/coco_train01.mov', \\\n",
    "                               f'{path}/coco_train02.mov', \\\n",
    "                               f'{path}/coco_train03.mov', \\\n",
    "                               f'{path}/coco_train04.mov', \\\n",
    "                               f'{path}/coco_train05.mov', \\\n",
    "                               f'{path}/coco_train06.mov', \\\n",
    "                               f'{path}/coco_train07.mov', \\\n",
    "                               f'{path}/coco_train08.mov', \\\n",
    "                               f'{path}/coco_train09.mov', \\\n",
    "                               f'{path}/coco_train10.mov'],\n",
    "              copy_videos=True, multianimal=False)"
   ]
  },
  {
   "cell_type": "code",
   "execution_count": null,
   "metadata": {},
   "outputs": [],
   "source": [
    "# Setup your project variables:\n",
    "# PLEASE EDIT THESE:\n",
    "ProjectFolderName = 'dlc-dog-pose'\n",
    "VideoType = 'mov' "
   ]
  },
  {
   "cell_type": "code",
   "execution_count": null,
   "metadata": {
    "colab": {},
    "colab_type": "code",
    "id": "Z7ZlDr3wV4D1"
   },
   "outputs": [],
   "source": [
    "# This creates a path variable to your project's config.yaml file\n",
    "path_config_file = '/home/ryan/code/repos/dog-pose-estimation/dlc-dog-pose-ryan-2021-02-14/config.yaml'\n",
    "path_config_file"
   ]
  },
  {
   "cell_type": "markdown",
   "metadata": {},
   "source": [
    "### Edit the config.yaml file to add body parts. I labeled these parts of my dog:\n",
    "```\n",
    "bodyparts:\n",
    "- nose\n",
    "- leftear\n",
    "- rightear\n",
    "- collar\n",
    "- spine1\n",
    "- spine2\n",
    "- spine3\n",
    "- tailstart\n",
    "- tailend\n",
    "- frontleftleg\n",
    "- frontleftpaw\n",
    "- frontrightleg\n",
    "- frontrightpaw\n",
    "- backleftleg\n",
    "- backleftpaw\n",
    "- backrightleg\n",
    "- backrightpaw\n",
    "```"
   ]
  },
  {
   "cell_type": "code",
   "execution_count": null,
   "metadata": {
    "scrolled": false
   },
   "outputs": [],
   "source": [
    "# This step is to extract frames from the videos you added to the project\n",
    "deeplabcut.extract_frames(path_config_file, mode='automatic', algo='kmeans', crop=True)"
   ]
  },
  {
   "cell_type": "code",
   "execution_count": null,
   "metadata": {},
   "outputs": [],
   "source": [
    "# Label your frames\n",
    "# IMPORTANT: You must run this step from a computer with a display or use VNC (GUI required)\n",
    "deeplabcut.label_frames('./config.yaml')"
   ]
  },
  {
   "cell_type": "markdown",
   "metadata": {
    "colab_type": "text",
    "id": "xNi9s1dboEJN"
   },
   "source": [
    "## Create a training dataset:\n",
    "After running this script the training dataset is created and saved in the project directory under the subdirectory **'training-datasets'**\n",
    "\n",
    "This function also creates new subdirectories under **dlc-models** and appends the project config.yaml file with the correct path to the training and testing pose configuration file. These files hold the parameters for training the network. Such an example file is provided with the toolbox and named as **pose_cfg.yaml**.\n",
    "\n",
    "Now it is the time to start training the network!"
   ]
  },
  {
   "cell_type": "code",
   "execution_count": null,
   "metadata": {
    "colab": {},
    "colab_type": "code",
    "id": "eMeUwgxPoEJP",
    "scrolled": true
   },
   "outputs": [],
   "source": [
    "# There are many more functions you can set here, including which network you use\n",
    "# check the docstring for full options you can use\n",
    "deeplabcut.create_training_dataset(path_config_file, net_type='resnet_50', augmenter_type='imgaug')"
   ]
  },
  {
   "cell_type": "markdown",
   "metadata": {
    "colab_type": "text",
    "id": "c4FczXGDoEJU"
   },
   "source": [
    "## Start training:\n",
    "This function trains the network for a specific shuffle of the training dataset. "
   ]
  },
  {
   "cell_type": "code",
   "execution_count": null,
   "metadata": {
    "colab": {},
    "colab_type": "code",
    "id": "_pOvDq_2oEJW",
    "scrolled": true
   },
   "outputs": [],
   "source": [
    "# Typically, you want to train to 200,000 + iterations.\n",
    "# more info and there are more things you can set: https://github.com/AlexEMG/DeepLabCut/blob/master/docs/functionDetails.md#g-train-the-network\n",
    "\n",
    "deeplabcut.train_network(path_config_file, shuffle=1, displayiters=100,saveiters=500)\n",
    "\n",
    "# This will run until you stop it (CTRL+C), or hit \"STOP\" icon, or when it hits the end (default, 1.03M iterations). \n",
    "# Whichever you chose, you will see what looks like an error message, but it's not an error - don't worry...."
   ]
  },
  {
   "cell_type": "markdown",
   "metadata": {
    "colab_type": "text",
    "id": "RiDwIVf5-3H_"
   },
   "source": [
    "**When you hit \"STOP\" you will get a KeyInterrupt \"error\"! No worries! :)**"
   ]
  },
  {
   "cell_type": "markdown",
   "metadata": {
    "colab_type": "text",
    "id": "xZygsb2DoEJc"
   },
   "source": [
    "## Start evaluating:\n",
    "This funtion evaluates a trained model for a specific shuffle/shuffles at a particular state or all the states on the data set (images)\n",
    "and stores the results as .csv file in a subdirectory under **evaluation-results**"
   ]
  },
  {
   "cell_type": "code",
   "execution_count": null,
   "metadata": {
    "colab": {},
    "colab_type": "code",
    "id": "nv4zlbrnoEJg"
   },
   "outputs": [],
   "source": [
    "%matplotlib notebook\n",
    "deeplabcut.evaluate_network(path_config_file,plotting=True)\n",
    "\n",
    "# Here you want to see a low pixel error! Of course, it can only be as good as the labeler, \n",
    "#so be sure your labels are good! (And you have trained enough ;)"
   ]
  },
  {
   "cell_type": "markdown",
   "metadata": {
    "colab_type": "text",
    "id": "OVFLSKKfoEJk"
   },
   "source": [
    "## Start Analyzing videos: \n",
    "This function analyzes the new video. The user can choose the best model from the evaluation results and specify the correct snapshot index for the variable **snapshotindex** in the **config.yaml** file. Otherwise, by default the most recent snapshot is used to analyse the video.\n",
    "\n",
    "The results are stored in hd5 file in the same directory where the video resides. "
   ]
  },
  {
   "cell_type": "code",
   "execution_count": null,
   "metadata": {},
   "outputs": [],
   "source": [
    "# This is the location of the videos to analyze\n",
    "videofile_path = ['/home/ryan/code/repos/dog-pose-estimation/videos']\n",
    "videofile_path"
   ]
  },
  {
   "cell_type": "code",
   "execution_count": null,
   "metadata": {
    "colab": {},
    "colab_type": "code",
    "id": "Y_LZiS_0oEJl"
   },
   "outputs": [],
   "source": [
    "deeplabcut.analyze_videos(path_config_file,videofile_path, videotype='mov')"
   ]
  },
  {
   "cell_type": "markdown",
   "metadata": {
    "colab_type": "text",
    "id": "8GTiuJESoEKH"
   },
   "source": [
    "## Plot the trajectories of the analyzed videos:\n",
    "This function plots the trajectories of all the body parts across the entire video. Each body part is identified by a unique color."
   ]
  },
  {
   "cell_type": "code",
   "execution_count": null,
   "metadata": {
    "colab": {},
    "colab_type": "code",
    "id": "gX21zZbXoEKJ"
   },
   "outputs": [],
   "source": [
    "deeplabcut.plot_trajectories(path_config_file,videofile_path, videotype='mov')"
   ]
  },
  {
   "cell_type": "markdown",
   "metadata": {
    "colab_type": "text",
    "id": "pqaCw15v8EmB"
   },
   "source": [
    "Now you can look at the plot-poses file and check the \"plot-likelihood.png\" might want to change the \"p-cutoff\" in the config.yaml file so that you have only high confidnece points plotted in the video. i.e. ~0.8 or 0.9. The current default is 0.4. "
   ]
  },
  {
   "cell_type": "markdown",
   "metadata": {
    "colab_type": "text",
    "id": "pCrUvQIvoEKD"
   },
   "source": [
    "## Create labeled video:\n",
    "This funtion is for visualiztion purpose and can be used to create a video in .mp4 format with labels predicted by the network. This video is saved in the same directory where the original video resides. "
   ]
  },
  {
   "cell_type": "code",
   "execution_count": null,
   "metadata": {
    "colab": {},
    "colab_type": "code",
    "id": "6aDF7Q7KoEKE"
   },
   "outputs": [],
   "source": [
    "deeplabcut.create_labeled_video(path_config_file, videofile_path, videotype='mov', draw_skeleton=True)"
   ]
  },
  {
   "cell_type": "code",
   "execution_count": null,
   "metadata": {
    "scrolled": true
   },
   "outputs": [],
   "source": [
    "# PLACEHOLDER: This step is where we will convert to OpenVINO for faster inference \n",
    "# export frozen TF graph (.pb format)\n",
    "deeplabcut.export_model(config_path, iteration=None, shuffle=1, trainingsetindex=0, snapshotindex=None, TFGPUinference=False, overwrite=False, make_tar=True)"
   ]
  }
 ],
 "metadata": {
  "accelerator": "GPU",
  "colab": {
   "collapsed_sections": [],
   "include_colab_link": true,
   "name": "Copy of latest_Colab_TrainNetwork_VideoAnalysis.ipynb",
   "provenance": [],
   "toc_visible": true
  },
  "kernelspec": {
   "display_name": "Python [conda env:DLC-GPU] *",
   "language": "python",
   "name": "conda-env-DLC-GPU-py"
  },
  "language_info": {
   "codemirror_mode": {
    "name": "ipython",
    "version": 3
   },
   "file_extension": ".py",
   "mimetype": "text/x-python",
   "name": "python",
   "nbconvert_exporter": "python",
   "pygments_lexer": "ipython3",
   "version": "3.7.9"
  }
 },
 "nbformat": 4,
 "nbformat_minor": 1
}
