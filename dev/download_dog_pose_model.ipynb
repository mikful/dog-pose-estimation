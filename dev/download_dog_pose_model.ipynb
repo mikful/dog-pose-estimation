{
  "nbformat": 4,
  "nbformat_minor": 0,
  "metadata": {
    "colab": {
      "name": "download_dog_pose_model.ipynb",
      "provenance": [],
      "mount_file_id": "1YPVTfZhCwMg7_oEcG14UkR6ovcnerAQP",
      "authorship_tag": "ABX9TyNUQPQf7SIfvF8NcmRMW0WA",
      "include_colab_link": true
    },
    "kernelspec": {
      "name": "python3",
      "display_name": "Python 3"
    },
    "language_info": {
      "name": "python"
    }
  },
  "cells": [
    {
      "cell_type": "markdown",
      "metadata": {
        "id": "view-in-github",
        "colab_type": "text"
      },
      "source": [
        "<a href=\"https://colab.research.google.com/github/mikful/dog-pose-estimation/blob/main/dev/download_dog_pose_model.ipynb\" target=\"_parent\"><img src=\"https://colab.research.google.com/assets/colab-badge.svg\" alt=\"Open In Colab\"/></a>"
      ]
    },
    {
      "cell_type": "markdown",
      "metadata": {
        "id": "SpPHG8NvpCmy"
      },
      "source": [
        "# Download Dog-pose model\n",
        "\n",
        "This notebook downloads the pretrained dog pose model from DeepLabCut and transfers it into a google drive folder. \n",
        "\n",
        "The .pb tensorflow model can then be convert to MyriadX format for use in OAK-D. Using one of the methods outlined here:\n",
        "\n",
        " https://docs.luxonis.com/en/latest/pages/model_conversion/\n",
        "\n"
      ]
    },
    {
      "cell_type": "code",
      "metadata": {
        "colab": {
          "base_uri": "https://localhost:8080/"
        },
        "id": "yrn_MiwXomBd",
        "outputId": "1415980f-30c8-47e2-8e4a-c1e3588bcd1a"
      },
      "source": [
        "# mount google drive to transfer model to\n",
        "from google.colab import drive\n",
        "drive.mount('/content/drive')"
      ],
      "execution_count": 1,
      "outputs": [
        {
          "output_type": "stream",
          "name": "stdout",
          "text": [
            "Drive already mounted at /content/drive; to attempt to forcibly remount, call drive.mount(\"/content/drive\", force_remount=True).\n"
          ]
        }
      ]
    },
    {
      "cell_type": "code",
      "metadata": {
        "colab": {
          "base_uri": "https://localhost:8080/"
        },
        "id": "gwruZ0vCos4x",
        "outputId": "361e74a4-f443-4a76-c401-ffd6f9180bb0"
      },
      "source": [
        "# Pretrained dog-pose model found at:\n",
        "!wget http://deeplabcut.rowland.harvard.edu/models/DLC_Dog_resnet_50_iteration-0_shuffle-0.tar.gz"
      ],
      "execution_count": 2,
      "outputs": [
        {
          "output_type": "stream",
          "name": "stdout",
          "text": [
            "--2021-09-22 17:53:20--  http://deeplabcut.rowland.harvard.edu/models/DLC_Dog_resnet_50_iteration-0_shuffle-0.tar.gz\n",
            "Resolving deeplabcut.rowland.harvard.edu (deeplabcut.rowland.harvard.edu)... 192.131.102.16\n",
            "Connecting to deeplabcut.rowland.harvard.edu (deeplabcut.rowland.harvard.edu)|192.131.102.16|:80... connected.\n",
            "HTTP request sent, awaiting response... 200 OK\n",
            "Length: 183328728 (175M) [application/x-gzip]\n",
            "Saving to: ‘DLC_Dog_resnet_50_iteration-0_shuffle-0.tar.gz’\n",
            "\n",
            "DLC_Dog_resnet_50_i 100%[===================>] 174.83M  6.32MB/s    in 68s     \n",
            "\n",
            "2021-09-22 17:54:29 (2.56 MB/s) - ‘DLC_Dog_resnet_50_iteration-0_shuffle-0.tar.gz’ saved [183328728/183328728]\n",
            "\n"
          ]
        }
      ]
    },
    {
      "cell_type": "code",
      "metadata": {
        "colab": {
          "base_uri": "https://localhost:8080/"
        },
        "id": "0YxA5r21ow3x",
        "outputId": "219fc5b7-31ce-4045-e5d6-502a222764e0"
      },
      "source": [
        "!tar -xzvf /content/DLC_Dog_resnet_50_iteration-0_shuffle-0.tar.gz"
      ],
      "execution_count": 3,
      "outputs": [
        {
          "output_type": "stream",
          "name": "stdout",
          "text": [
            "DLC_Dog_resnet_50_iteration-0_shuffle-0/\n",
            "DLC_Dog_resnet_50_iteration-0_shuffle-0/snapshot-75000.pb\n",
            "DLC_Dog_resnet_50_iteration-0_shuffle-0/pose_cfg.yaml\n",
            "DLC_Dog_resnet_50_iteration-0_shuffle-0/snapshot-75000.meta\n",
            "DLC_Dog_resnet_50_iteration-0_shuffle-0/snapshot-75000.pbtxt\n",
            "DLC_Dog_resnet_50_iteration-0_shuffle-0/snapshot-75000.data-00000-of-00001\n",
            "DLC_Dog_resnet_50_iteration-0_shuffle-0/snapshot-75000.index\n"
          ]
        }
      ]
    },
    {
      "cell_type": "code",
      "metadata": {
        "id": "qfgF_ov5pYMu"
      },
      "source": [
        "!cp -r /content/DLC_Dog_resnet_50_iteration-0_shuffle-0 -d /content/drive/MyDrive/Machine_Learning/My_Projects/blog-dog-pose-estimation"
      ],
      "execution_count": 5,
      "outputs": []
    },
    {
      "cell_type": "code",
      "metadata": {
        "id": "arRQEA9upge0"
      },
      "source": [
        ""
      ],
      "execution_count": null,
      "outputs": []
    },
    {
      "cell_type": "markdown",
      "metadata": {
        "id": "35VIriMhqLj0"
      },
      "source": [
        "using the Luxonis online conversion tool API for tensorflow models:\n"
      ]
    },
    {
      "cell_type": "code",
      "metadata": {
        "id": "syaaGcqxqNtG"
      },
      "source": [
        "import requests\n",
        "\n",
        "url = \"http://blobconverter.luxonis.com/compile\"  # change if running against other URL\n",
        "payload = {\n",
        "    'compile_type': 'model',\n",
        "    'model_type': 'tensorflow',\n",
        "    'intermediate_compiler_params': '--data_type=FP16 --mean_values [127.5,127.5,127.5] --scale_values [255,255,255]',\n",
        "    'compiler_params': '-ip U8 -VPU_MYRIAD_PLATFORM VPU_MYRIAD_2480 -VPU_NUMBER_OF_SHAVES 4 -VPU_NUMBER_OF_CMX_SLICES 4'\n",
        "}\n",
        "files = {\n",
        "    'model': open('/content/DLC_Dog_resnet_50_iteration-0_shuffle-0/snapshot-75000.pb', 'rb'),\n",
        "}\n",
        "params = {\n",
        "    'version': '2021.1',  # OpenVINO version, can be \"2021.1\", \"2020.4\", \"2020.3\", \"2020.2\", \"2020.1\", \"2019.R3\"\n",
        "}\n",
        "response = requests.post(url, data=payload, files=files, params=params)"
      ],
      "execution_count": 9,
      "outputs": []
    },
    {
      "cell_type": "code",
      "metadata": {
        "colab": {
          "base_uri": "https://localhost:8080/"
        },
        "id": "p5gyJD3Bqj_N",
        "outputId": "35cb2856-2245-4b85-e55b-b30795e423b8"
      },
      "source": [
        "response"
      ],
      "execution_count": 10,
      "outputs": [
        {
          "output_type": "execute_result",
          "data": {
            "text/plain": [
              "<Response [500]>"
            ]
          },
          "metadata": {},
          "execution_count": 10
        }
      ]
    }
  ]
}